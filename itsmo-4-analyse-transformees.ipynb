{
 "cells": [
  {
   "cell_type": "markdown",
   "metadata": {},
   "source": [
    "[PC7ITSMO](https://moodle.bordeaux-inp.fr/course/view.php?id=4&section=1) Instrumentation, Traitement du Signal, et Modélisation $\\bullet$ ENSCBP - Bordeaux INP $\\bullet$ [Nicolas Régnier](mailto:nicolas.regnier@enscbp.fr)\n",
    "***\n",
    "## À lire en premier\n",
    "Vous venez d'ouvrir un \"Notebook Jupyter\" ! Si c'est la première fois $\\rightarrow$ consultez le [Mini tutoriel](_mini-tutoriel.ipynb).\n",
    "<br>Les exemples qui suivent font appel à des `fonctions Matlab`. Chaque fois que vous avez besoin d'aide $\\rightarrow$ consultez le [Guide des fonctions Matlab](_guide-matlab.ipynb).\n",
    "***\n",
    "<br>"
   ]
  },
  {
   "cell_type": "markdown",
   "metadata": {},
   "source": [
    "# ITSMO > Analyse des signaux"
   ]
  },
  {
   "cell_type": "markdown",
   "metadata": {},
   "source": [
    "## Transformée de Fourier\n",
    "La transformée de Fourier d'un signal temporel donne accès à sa représentation fréquentielle, également appelée spectre. Son intêret est de permettre l'analyse de certains éléments qu'il n'est pas possible de déterminer directement sur une représentation temporelle, telle que des limites, présences, ou absences de fréquences (ou de bandes de fréquences).\n",
    "\n",
    "Définition de la transformée de Fourier d'un signal continu $x(t)$ : $X(\\nu) \\propto \\int_{-\\infty}^{+\\infty} x(t) \\cdot e^{-i2\\pi \\nu t} \\cdot dt$. L'opérateur proportionnel ($\\propto$) indique qu'il peut exister un coefficient de normalisation selon le contexte, ce qui a peu d'importance en pratique car ce sont surtout les rapports d'amplitude qui importent.\n",
    "\n",
    "Définition de la transformée de Fourier d'un signal discret $x(k)$ de longueur N : $X(n) \\propto \\sum_{k=0}^{N-1} x(k) \\cdot e^{-i2\\pi k \\frac{n}{N}}$. \n",
    "<br>Le signal $x(k)$ est connu pour des temps $t = k\\cdot Te$ avec $k \\in [0, N-1]$.\n",
    "<br>Le spectre $X(n)$ est connu pour des fréquences $\\nu = n \\cdot \\frac{\\nu e}{N}$ avec $n \\in [0, N-1]$."
   ]
  },
  {
   "cell_type": "markdown",
   "metadata": {},
   "source": [
    "### Transformée de Fourier d'un signal réel mesuré n°1\n",
    "Soit un signal de mesure de vitesse $V$ (transmis par la sonde Viking1 en 1976 depuis la surface de Mars), échantillonné à la fréquence $\\nu e = 2.78\\times 10^{-4} Hz$ (une mesure par heure) et enregistré dans un fichier de données. \n",
    "\n",
    "> Exécutez le code ci-dessous."
   ]
  },
  {
   "cell_type": "code",
   "execution_count": null,
   "metadata": {},
   "outputs": [],
   "source": [
    "% Chargement des données (enregistrées à la fréquence de 2.78e-4 Hz dans le fichier \"viking1.mat\")\n",
    "load('data/viking1.mat');\n",
    "N = length(V);\n",
    "t = t/3600; % Convertit le temps en heures pour la représentation graphique\n",
    "\n",
    "% Tracé\n",
    "plot(t,V)\n",
    "xlim([0 200]); grid\n",
    "xlabel('t (h)');\n",
    "ylabel('V (m/s)')"
   ]
  },
  {
   "cell_type": "markdown",
   "metadata": {},
   "source": [
    "Le signal $V$ est nettement quasi-périodique, caractéristique qui doit apparaître sur sa transformée de Fourier.\n",
    "> Calculez la transformée de Fourier de $V$ en utilisant la fonction `fft`, puis tracez son module (fonction `abs`) en fonction de la fréquence. Pour cela vous devrez construire un vecteur de fréquences $\\nu$, soit à l'aide de la fonction `linspace`, soit à l'aide de l'opérateur `:`.\n",
    "><br> Vous pouvez afficher le module de la transformée de Fourier seulement sur l'intervale $[0,\\nu e/2] Hz$, à l'aide de la fonction `xlim`."
   ]
  },
  {
   "cell_type": "code",
   "execution_count": null,
   "metadata": {},
   "outputs": [],
   "source": [
    "% Calcul de la transformée de Fourier\n",
    "% ...\n",
    "\n",
    "% Tracé\n",
    "% ..."
   ]
  },
  {
   "cell_type": "markdown",
   "metadata": {},
   "source": [
    "### Transformée de Fourier d'un signal réel mesuré n°2\n",
    "Soit un signal de mesure de température $Tx$ (salle de travaux pratiques ENSCBP) échantillonné à la fréquence $\\nu e = 1 Hz$ et enregistré dans un fichier de données.\n",
    "> Exécutez le code ci-dessous."
   ]
  },
  {
   "cell_type": "code",
   "execution_count": null,
   "metadata": {},
   "outputs": [],
   "source": [
    "% Chargement du signal mesuré (enregistré à la fréquence de 1 Hz dans le fichier \"Tx.mat\")\n",
    "load('data/Tx.mat');\n",
    "N = length(Tx);\n",
    "\n",
    "% Tracé\n",
    "plot(t,Tx)\n",
    "xlabel('t (s)');\n",
    "ylabel('Tx (\\degC)')"
   ]
  },
  {
   "cell_type": "markdown",
   "metadata": {},
   "source": [
    "Le signal $Tx$ peut être partiellement déterministe, partiellement périodique, partiellement aléatoire, et sa transformée de Fourier peut donc en présenter les caractéristiques.\n",
    "> Calculez la transformée de Fourier de $Tx$ en utilisant la fonction `fft`, puis tracez son module (fonction `abs`) en fonction de la fréquence. Pour cela vous devrez construire un vecteur de fréquences $\\nu$, soit à l'aide de la fonction `linspace`, soit à l'aide de l'opérateur `:`.\n",
    "><br> Vous pouvez afficher le module de la transformée de Fourier seulement sur l'intervale $[0,\\nu e/2] Hz$, à l'aide de la fonction `xlim`."
   ]
  },
  {
   "cell_type": "code",
   "execution_count": null,
   "metadata": {},
   "outputs": [],
   "source": [
    "% Calcul de la transformée de Fourier\n",
    "% ...\n",
    "\n",
    "% Tracé\n",
    "% ..."
   ]
  },
  {
   "cell_type": "markdown",
   "metadata": {},
   "source": [
    "## Densité spectrale de puissance\n",
    "La densité spectrale de puissance est une représentation fréquentielle pratique d'un signal temporel, car toujours réelle et positive, proportionnelle au carré du module de sa transformée de Fourier. Par contre elle ne contient aucune information sur la phase du signal (contrairement à la transformée de Fourier).\n",
    "\n",
    "Définition de la densité spectrale de puissance d'un signal continu $x(t)$ de spectre $X(\\nu)$ : $DSP(\\nu) \\propto |X(\\nu)|^2$. L'opérateur proportionnel ($\\propto$) indique qu'il peut exister un coefficient de normalisation selon le contexte, ce qui a peu d'importance en pratique car ce sont surtout les rapports d'amplitude qui importent.\n",
    "\n",
    "Définition de la densité spectrale de puissance d'un signal discret $x(k)$ de longueur N : $DSP(n) \\propto |X(n)|^2$. \n",
    "<br>Le signal $x(k)$ est connu pour des temps $t = k\\cdot Te$ avec $k \\in [0, N-1]$.\n",
    "<br>La densité spectrale de puissance $DSP(n)$ est connue pour des fréquences $\\nu = n \\cdot \\frac{\\nu e}{N}$ avec $n \\in [0, N-1]$."
   ]
  },
  {
   "cell_type": "markdown",
   "metadata": {},
   "source": [
    "### Densité spectrale de puissance d'un signal réel mesuré n°1\n",
    "Soit un signal de mesure de vitesse $V$ (transmis par la sonde Viking1 en 1976 depuis la surface de Mars), échantillonné à la fréquence $\\nu e = 2.78\\times 10^{-4} Hz$ (une mesure par heure) et enregistré dans un fichier de données. \n",
    "\n",
    "> Calculez la densité spectrale de puissance de $V$ en utilisant la fonction `pwelch` (méthode de Welch), puis tracez-la en fonction de la fréquence.\n",
    "><br> Vous pouvez faire varier les paramètres de la méthode de Welch correspondant à la taille des fenêtres et à leur taux de recouvrement."
   ]
  },
  {
   "cell_type": "code",
   "execution_count": null,
   "metadata": {},
   "outputs": [],
   "source": [
    "% Calcul de la densité spectrale de puissance\n",
    "% ...\n",
    "\n",
    "% Tracé\n",
    "% ..."
   ]
  },
  {
   "cell_type": "markdown",
   "metadata": {},
   "source": [
    "### Densité spectrale de puissance d'un signal réel mesuré n°2\n",
    "Soit un signal de mesure de température $Tx$ (salle de travaux pratiques ENSCBP) échantillonné à la fréquence $\\nu e = 1 Hz$ et enregistré dans un fichier de données.\n",
    "\n",
    "> Calculez la densité spectrale de $Tx$ en utilisant la fonction `pwelch` (méthode de Welch), puis tracez-la en fonction de la fréquence.\n",
    "><br> Vous pouvez faire varier les paramètres de la méthode de Welch correspondant à la taille des fenêtres et à leur taux de recouvrement."
   ]
  },
  {
   "cell_type": "code",
   "execution_count": null,
   "metadata": {},
   "outputs": [],
   "source": [
    "% Calcul de la densité spectrale de puissance\n",
    "% ...\n",
    "\n",
    "% Tracé\n",
    "% ..."
   ]
  }
 ],
 "metadata": {
  "kernelspec": {
   "display_name": "Octave",
   "language": "octave",
   "name": "octave"
  },
  "language_info": {
   "file_extension": ".m",
   "help_links": [
    {
     "text": "GNU Octave",
     "url": "https://www.gnu.org/software/octave/support.html"
    },
    {
     "text": "Octave Kernel",
     "url": "https://github.com/Calysto/octave_kernel"
    },
    {
     "text": "MetaKernel Magics",
     "url": "https://metakernel.readthedocs.io/en/latest/source/README.html"
    }
   ],
   "mimetype": "text/x-octave",
   "name": "octave",
   "version": "4.2.2"
  },
  "toc-autonumbering": true,
  "toc-showcode": false,
  "toc-showmarkdowntxt": false,
  "toc-showtags": false
 },
 "nbformat": 4,
 "nbformat_minor": 4
}
