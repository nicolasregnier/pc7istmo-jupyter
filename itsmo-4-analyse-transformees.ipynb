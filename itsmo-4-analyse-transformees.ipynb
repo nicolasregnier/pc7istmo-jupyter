{
 "cells": [
  {
   "cell_type": "markdown",
   "metadata": {},
   "source": [
    "[PC7ITSMO](https://moodle.bordeaux-inp.fr/course/view.php?id=4&section=1) Instrumentation, Traitement du Signal, et Modélisation $\\bullet$ ENSCBP - Bordeaux INP $\\bullet$ [Nicolas Régnier](mailto:nicolas.regnier@enscbp.fr)\n",
    "***\n",
    "## À lire en premier\n",
    "Vous venez d'ouvrir un \"Notebook Jupyter\" ! Si c'est la première fois $\\rightarrow$ consultez le [Mini tutoriel](_mini-tutoriel.ipynb).\n",
    "<br>Les exemples qui suivent font appel à des `fonctions Matlab`. Chaque fois que vous avez besoin d'aide $\\rightarrow$ consultez le [Guide des fonctions Matlab](_guide-matlab.ipynb).\n",
    "***\n",
    "<br>"
   ]
  },
  {
   "cell_type": "markdown",
   "metadata": {},
   "source": [
    "# ITSMO > Analyse des signaux"
   ]
  },
  {
   "cell_type": "markdown",
   "metadata": {},
   "source": [
    "## Transformée de Fourier\n",
    "Transformée de Fourier (continue) de $x(t)$ : $X(\\nu) \\propto \\int_{-\\infty}^{+\\infty} x(t) \\cdot e^{-i2\\pi \\nu t} \\cdot dt$. L'opérateur proportionnel ($\\propto$) indique qu'il peut exister un coefficient de normalisation selon le contexte, ce qui a peu d'importance en pratique car ce sont surtout les rapports d'amplitude qui comptent.\n",
    "\n",
    "La transformée de Fourier d'un signal temporel donne accès à sa représentation fréquentielle. Celle-ci permet d'analyser certains éléments qu'il n'est pas possible de déterminer directement sur une représentation temporelle, telle que des fréquences limites, des féquences ou bandes de fréquences présentes ou absentes."
   ]
  },
  {
   "cell_type": "markdown",
   "metadata": {},
   "source": [
    "### Signal réel mesuré n°1\n",
    "Soit un signal de mesure de vitesse $V$ (transmis par la sonde Viking1 en 1976 depuis la surface de Mars), échantillonné à la fréquence $\\nu e = 2.78\\times 10^{-4} Hz$ (une mesure par heure) et enregistré dans un fichier de données. \n",
    "\n",
    "> Exécutez le code ci-dessous."
   ]
  },
  {
   "cell_type": "code",
   "execution_count": null,
   "metadata": {},
   "outputs": [],
   "source": [
    "% Chargement des données (enregistrées à la fréquence de 2.78e-4 Hz dans le fichier \"viking1.mat\")\n",
    "load('data/viking1.mat');\n",
    "N = length(V);\n",
    "t = t/3600; % Convertit le temps en heures pour la représentation graphique\n",
    "\n",
    "% Tracé\n",
    "plot(t,V)\n",
    "xlim([0 200]); grid\n",
    "xlabel('t (h)');\n",
    "ylabel('V (m/s)')"
   ]
  },
  {
   "cell_type": "markdown",
   "metadata": {},
   "source": [
    "Le signal $V$ est nettement quasi-périodique, caractéristique qui doit apparaître sur sa transformée de Fourier.\n",
    "> Écrivez puis exécutez le code permettant de calculer la transformée de Fourier de $V$ en utilisant la fonction `fft`, puis de tracer son module (fonction `abs`) en fonction de la fréquence. Pour cela vous devrez construire un vecteur de fréquences $\\nu$, par exemple à l'aide de la fonction `linspace`.\n",
    "><br> Vous pouvez afficher le module de la transformée de Fourier seulement sur l'intervale $[0,\\nu e/2] Hz$, à l'aide de la fonction `xlim`."
   ]
  },
  {
   "cell_type": "code",
   "execution_count": null,
   "metadata": {},
   "outputs": [],
   "source": [
    "% Calcul de la transformée de Fourier\n",
    "% ...\n",
    "\n",
    "% Tracé\n",
    "% ..."
   ]
  },
  {
   "cell_type": "markdown",
   "metadata": {},
   "source": [
    "### Signal réel mesuré n°2\n",
    "Soit un signal de mesure de température $Tx$ (salle de travaux pratiques ENSCBP) échantillonné à la fréquence $\\nu e = 1 Hz$ et enregistré dans un fichier de données.\n",
    "> Exécutez le code ci-dessous."
   ]
  },
  {
   "cell_type": "code",
   "execution_count": null,
   "metadata": {},
   "outputs": [],
   "source": [
    "% Chargement du signal mesuré (enregistré à la fréquence de 1 Hz dans le fichier \"Tx.mat\")\n",
    "load('data/Tx.mat');\n",
    "N = length(Tx);\n",
    "\n",
    "% Tracé\n",
    "plot(t,Tx)\n",
    "xlabel('t (s)');\n",
    "ylabel('Tx (\\degC)')"
   ]
  },
  {
   "cell_type": "markdown",
   "metadata": {},
   "source": [
    "Le signal $Tx$ peut être partiellement déterministe, partiellement périodique, partiellement aléatoire, et sa transformée de Fourier peut donc en présenter les caractéristiques.\n",
    "> Écrivez puis exécutez le code permettant de calculer la transformée de Fourier de $Tx$ en utilisant la fonction `fft`, puis de tracer son module (fonction `abs`) en fonction de la fréquence. Pour cela vous devrez construire un vecteur de fréquences $\\nu$, par exemple à l'aide de la fonction `linspace`.\n",
    "><br> Vous pouvez afficher le module de la transformée de Fourier seulement sur l'intervale $[0,\\nu e/2] Hz$, à l'aide de la fonction `xlim`."
   ]
  },
  {
   "cell_type": "code",
   "execution_count": null,
   "metadata": {},
   "outputs": [],
   "source": [
    "% Calcul de la transformée de Fourier\n",
    "% ...\n",
    "\n",
    "% Tracé\n",
    "% ..."
   ]
  },
  {
   "cell_type": "markdown",
   "metadata": {},
   "source": [
    "## Densité spectrale de puissance\n",
    "Densité spectrale de puissance (continue) de $x(t)$ : $DSP\\{x(t)\\} \\propto |X(\\nu)|^2$. L'opérateur proportionnel ($\\propto$) indique qu'il peut exister un coefficient de normalisation selon le contexte, ce qui a peu d'importance en pratique car ce sont surtout les rapports d'amplitude qui comptent.\n",
    "\n",
    "La densité spectrale de puissance est une représentation fréquentielle pratique d'un signal, toujours réelle et positive, proportionnelle au carré du module de sa transformée de Fourier."
   ]
  },
  {
   "cell_type": "markdown",
   "metadata": {},
   "source": [
    "### Signal réel mesuré n°1\n",
    "Soit un signal de mesure de vitesse $V$ (transmis par la sonde Viking1 en 1976 depuis la surface de Mars), échantillonné à la fréquence $\\nu e = 2.78\\times 10^{-4} Hz$ (une mesure par heure) et enregistré dans un fichier de données. \n",
    "\n",
    "> Écrivez puis exécutez le code permettant de calculer la densité spectrale de $V$ en utilisant la fonction `pwelch` (méthode de Welch), puis de la tracer en fonction de la fréquence.\n",
    "><br> Vous pouvez faire varier les paramètres de la méthode de Welch correspondant à la taille des fenêtre et à leur taux de recouvrement."
   ]
  },
  {
   "cell_type": "code",
   "execution_count": null,
   "metadata": {},
   "outputs": [],
   "source": [
    "% Calcul de la densité spectrale de puissance\n",
    "% ...\n",
    "\n",
    "% Tracé\n",
    "% ..."
   ]
  },
  {
   "cell_type": "markdown",
   "metadata": {},
   "source": [
    "### Signal réel mesuré n°2\n",
    "Soit un signal de mesure de température $Tx$ (salle de travaux pratiques ENSCBP) échantillonné à la fréquence $\\nu e = 1 Hz$ et enregistré dans un fichier de données.\n",
    "\n",
    "> Écrivez puis exécutez le code permettant de calculer la densité spectrale de $Tx$ en utilisant la fonction `pwelch` (méthode de Welch), puis de la tracer en fonction de la fréquence.\n",
    "><br> Vous pouvez faire varier les paramètres de la méthode de Welch correspondant à la taille des fenêtre et à leur taux de recouvrement."
   ]
  },
  {
   "cell_type": "code",
   "execution_count": null,
   "metadata": {},
   "outputs": [],
   "source": [
    "% Calcul de la densité spectrale de puissance\n",
    "% ...\n",
    "\n",
    "% Tracé\n",
    "% ..."
   ]
  }
 ],
 "metadata": {
  "kernelspec": {
   "display_name": "Octave",
   "language": "octave",
   "name": "octave"
  },
  "language_info": {
   "file_extension": ".m",
   "help_links": [
    {
     "text": "GNU Octave",
     "url": "https://www.gnu.org/software/octave/support.html"
    },
    {
     "text": "Octave Kernel",
     "url": "https://github.com/Calysto/octave_kernel"
    },
    {
     "text": "MetaKernel Magics",
     "url": "https://metakernel.readthedocs.io/en/latest/source/README.html"
    }
   ],
   "mimetype": "text/x-octave",
   "name": "octave",
   "version": "4.2.2"
  },
  "toc-autonumbering": true,
  "toc-showcode": false,
  "toc-showmarkdowntxt": false,
  "toc-showtags": false
 },
 "nbformat": 4,
 "nbformat_minor": 4
}
