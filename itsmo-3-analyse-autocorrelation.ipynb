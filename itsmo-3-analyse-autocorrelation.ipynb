{
 "cells": [
  {
   "cell_type": "markdown",
   "metadata": {},
   "source": [
    "[PC7ITSMO](https://moodle.bordeaux-inp.fr/course/view.php?id=4&section=1) Instrumentation, Traitement du Signal, et Modélisation $\\bullet$ ENSCBP - Bordeaux INP $\\bullet$ [Nicolas Régnier](mailto:nicolas.regnier@enscbp.fr)\n",
    "***\n",
    "## À lire en premier\n",
    "Vous venez d'ouvrir un \"Notebook Jupyter\" ! Si c'est la première fois $\\rightarrow$ consultez le [Mini tutoriel](_mini-tutoriel.ipynb).\n",
    "<br>Les exemples qui suivent font appel à des `fonctions Matlab`. Chaque fois que vous avez besoin d'aide $\\rightarrow$ consultez le [Guide des fonctions Matlab](_guide-matlab.ipynb).\n",
    "***\n",
    "<br>"
   ]
  },
  {
   "cell_type": "markdown",
   "metadata": {},
   "source": [
    "# ITSMO > Analyse des signaux"
   ]
  },
  {
   "cell_type": "markdown",
   "metadata": {},
   "source": [
    "## Autocorrélation\n",
    "L'autocorrélation d'un signal représente le niveau de similitude qui existe entre différentes parties de ce signal, décalées dans le temps. Elle permet en particulier de juger si un signal est aléatoire (aucune similitude quelles que soient les parties observées), et de détecter des motifs plus ou moins réguliers dans un signal quasi-périodique (forte similitude à intervalles réguliers).\n",
    "\n",
    "Définition de la fonction d'autocorrélation (centrée) de $X$ : $\\phi_{XX}(\\tau) = E([X(t)-\\mu(X)]\\cdot[X(t-\\tau)-\\mu(X)])$."
   ]
  },
  {
   "cell_type": "markdown",
   "metadata": {},
   "source": [
    "### Autocorrélation d'un signal aléatoire (simulation)\n",
    "Soit un signal aléatoire contenant mille valeurs, générées numériquement selon une loi de probabilité normale de moyenne nulle et de variance égale à un. On considère arbitrairement ce signal comme étant échantillonné avec une période de $Te = 1 s$.\n",
    "> Exécutez le code ci-dessous."
   ]
  },
  {
   "cell_type": "code",
   "execution_count": null,
   "metadata": {},
   "outputs": [],
   "source": [
    "% Génération des données aléatoires (distribution normale)\n",
    "t = 0:1:999;\n",
    "y = randn(1000,1);\n",
    "\n",
    "% Tracé\n",
    "plot(t,y)\n",
    "xlabel('t (s)');\n",
    "ylabel('amplitude')"
   ]
  },
  {
   "cell_type": "markdown",
   "metadata": {},
   "source": [
    "L'autocorrélation d'un signal parfaitement aléatoire est nulle, sauf pour $\\tau=0$ où elle est égale à la variance du signal.\n",
    "> Écrivez puis exécutez le code permettant de calculer et de tracer l'autocorrélation du $y$, en utilisant la fonction `xcov`."
   ]
  },
  {
   "cell_type": "code",
   "execution_count": 3,
   "metadata": {},
   "outputs": [],
   "source": [
    "% Calcul de l'autocorrélation\n",
    "% ...\n",
    "\n",
    "% Tracé\n",
    "% ..."
   ]
  },
  {
   "cell_type": "markdown",
   "metadata": {},
   "source": [
    "### Autocorrélation d'un signal déterministe (simulation)\n",
    "Soit un signal déterministe contenant mille valeurs, générées numériquement selon une fonction arbitrairement choisie sur le même intervalle de temps et avec la même période d'échantillonnage que ceux du signal précédent.\n",
    "> Exécutez le code ci-dessous."
   ]
  },
  {
   "cell_type": "code",
   "execution_count": null,
   "metadata": {},
   "outputs": [],
   "source": [
    "% Génération de données déterministes (comportement asymptotique)\n",
    "y = 1-exp(-t/100);\n",
    "\n",
    "% Tracé\n",
    "plot(t,y)\n",
    "xlabel('t (s)');\n",
    "ylabel('amplitude')"
   ]
  },
  {
   "cell_type": "markdown",
   "metadata": {},
   "source": [
    "L'autocorrélation d'un signal déterministe est non-nulle, et sa valeur pour $\\tau=0$ est toujours égale à la variance du signal.\n",
    "> Écrivez puis exécutez le code permettant de calculer et de tracer l'autocorrélation du $y$, en utilisant la fonction `xcov`."
   ]
  },
  {
   "cell_type": "code",
   "execution_count": 3,
   "metadata": {},
   "outputs": [],
   "source": [
    "% Calcul de l'autocorrélation\n",
    "% ...\n",
    "\n",
    "% Tracé\n",
    "% ..."
   ]
  },
  {
   "cell_type": "markdown",
   "metadata": {},
   "source": [
    "### Autocorrélation d'un signal périodique (simulation)\n",
    "Soit un signal périodique (et donc déterministe) contenant mille valeurs, générées numériquement selon une fonction sinusoïdale sur le même intervalle de temps et avec la même période d'échantillonnage que ceux du signal précédent.\n",
    "> Exécutez le code ci-dessous."
   ]
  },
  {
   "cell_type": "code",
   "execution_count": null,
   "metadata": {},
   "outputs": [],
   "source": [
    "% Génération des données périodiques (sinusoïde)\n",
    "y =sin(2*pi*t/200);\n",
    "\n",
    "% Tracé\n",
    "plot(t,y)\n",
    "xlabel('t (s)');\n",
    "ylabel('amplitude')"
   ]
  },
  {
   "cell_type": "markdown",
   "metadata": {},
   "source": [
    "L'autocorrélation d'un signal parfaitement périodique est non-nulle, périodique avec la même période, et sa valeur pour $\\tau=0$ est toujours égale à la variance du signal.\n",
    "> Écrivez puis exécutez le code permettant de calculer et de tracer l'autocorrélation du $y$, en utilisant la fonction `xcov`."
   ]
  },
  {
   "cell_type": "code",
   "execution_count": 3,
   "metadata": {},
   "outputs": [],
   "source": [
    "% Calcul de l'autocorrélation\n",
    "% ...\n",
    "\n",
    "% Tracé\n",
    "% ..."
   ]
  },
  {
   "cell_type": "markdown",
   "metadata": {},
   "source": [
    "### Autocorrélation d'un signal réel mesuré n°1\n",
    "Soit un signal de mesure de température $Tx$ (salle de travaux pratiques ENSCBP) échantillonné à la fréquence $\\nu e = 1 Hz$ et enregistré dans un fichier de données.\n",
    "> Exécutez le code ci-dessous."
   ]
  },
  {
   "cell_type": "code",
   "execution_count": null,
   "metadata": {},
   "outputs": [],
   "source": [
    "% Chargement du signal mesuré (enregistré à la fréquence de 1 Hz dans le fichier \"Tx.mat\")\n",
    "load('data/Tx.mat');\n",
    "N = length(Tx);\n",
    "\n",
    "% Tracé\n",
    "plot(t,Tx)\n",
    "xlabel('t (s)');\n",
    "ylabel('Tx (\\degC)')"
   ]
  },
  {
   "cell_type": "markdown",
   "metadata": {},
   "source": [
    "Le signal $Tx$ peut être partiellement déterministe, partiellement périodique, partiellement aléatoire, et son autocorrélation peut donc présenter des caractéristiques proches (et mêlées) de celles des exemples précédents (simulations).\n",
    "> Écrivez puis exécutez le code permettant de calculer et de tracer l'autocorrélation du $Tx$, en utilisant la fonction `xcov`."
   ]
  },
  {
   "cell_type": "code",
   "execution_count": 3,
   "metadata": {},
   "outputs": [],
   "source": [
    "% Calcul de l'autocorrélation\n",
    "% ...\n",
    "\n",
    "% Tracé\n",
    "% ..."
   ]
  },
  {
   "cell_type": "markdown",
   "metadata": {},
   "source": [
    "### Autocorrélation de signaux réels mesurés n°2\n",
    "\n",
    "Soit des signaux de mesure de vitesse $V$ et de température $T$ (transmis par la sonde Viking1 en 1976 depuis la surface de Mars), échantillonnés à la fréquence $\\nu e = 2.78\\times 10^{-4} Hz$ (une mesure par heure) et enregistrés dans un fichier de données.\n",
    "> Exécutez le code ci-dessous."
   ]
  },
  {
   "cell_type": "code",
   "execution_count": null,
   "metadata": {},
   "outputs": [],
   "source": [
    "% Chargement des données (enregistrées à la fréquence de 2.78e-4 Hz dans le fichier \"viking1.mat\")\n",
    "load('data/viking1.mat');\n",
    "N = length(V);\n",
    "t = t/3600; % Convertit le temps en heures pour la représentation graphique\n",
    "\n",
    "% Tracés\n",
    "subplot(2,1,1)\n",
    "plot(t,V)\n",
    "xlim([0 200]); grid\n",
    "xlabel('t (h)');\n",
    "ylabel('V (m/s)')\n",
    "subplot(2,1,2)\n",
    "plot(t,T)\n",
    "xlim([0 200]); grid\n",
    "xlabel('t (h)');\n",
    "ylabel('T (\\degC)')"
   ]
  },
  {
   "cell_type": "markdown",
   "metadata": {},
   "source": [
    "Ces signaux peuvent être partiellement déterministes, partiellement aléatoires, et sont nettement quasi-périodiques. Leurs autocorrélations peuvent donc présenter des caractéristiques proches (et mêlées) de celles des exemples précédents (simulations), et doivent mettre en évidence leur quasi-périodicité.\n",
    "> Écrivez puis exécutez le code permettant de calculer et de tracer les autocorrélations de $V$ et de $T$, en utilisant la fonction `xcov`."
   ]
  },
  {
   "cell_type": "code",
   "execution_count": 3,
   "metadata": {},
   "outputs": [],
   "source": [
    "% Calcul des autocorrélations\n",
    "% ...\n",
    "\n",
    "% Tracés\n",
    "% ..."
   ]
  },
  {
   "cell_type": "markdown",
   "metadata": {},
   "source": [
    "## Intercorrélation\n",
    "L'intercorrélation de deux signaux représente le niveau de similitude qui existe entre différentes parties des signaux décalées dans le temps. \n",
    "\n",
    "Définition de la fonction d'intercorrélation (centrée) de $X$ et $Y$: $\\phi_{XY}(\\tau) = E([X(t)-\\mu(X)]\\cdot[Y(t-\\tau)-\\mu(X)])$."
   ]
  },
  {
   "cell_type": "markdown",
   "metadata": {},
   "source": [
    "### Intercorrélation de signaux réels dépendants\n",
    "Les signaux de vitesse du vent et de température à la surface Mars ne sont pas indépendants : soit l'un est un effet de l'autre, soit ils sont tous deux les effets d'une autre cause.\n",
    "<br>$\\rightarrow$ leur intercorrélation doit être non-nulle.\n",
    "> Écrivez puis exécutez le code permettant de calculer et de tracer l'intercorrélation de $V$ et $T$, en utilisant la fonction `xcov`.\n",
    "><br> Pour faciliter la lecture du graphique, vous pouvez limiter l'affichage des abscisses entre -100 et 100 (par exemple) à l'aide de la fonction `xlim`."
   ]
  },
  {
   "cell_type": "code",
   "execution_count": 3,
   "metadata": {},
   "outputs": [],
   "source": [
    "% Calcul de l'intercorrélation\n",
    "% ...\n",
    "\n",
    "% Tracé\n",
    "% ..."
   ]
  },
  {
   "cell_type": "markdown",
   "metadata": {},
   "source": [
    "### Intercorrélation de signaux réels indépendants\n",
    "Le signal de température mesuré à la surface de Mars en 1976, et le signal de température mesuré sur Terre dans une salle de travaux pratiques de l'ENSCBP en 2006 sont indépendants.\n",
    "<br>$\\rightarrow$ leur intercorrélation doit être nulle.\n",
    "> Écrivez puis exécutez le code permettant de calculer et de tracer l'intercorrélation de $Tx$ et $T$, en utilisant la fonction `xcov`.\n",
    "><br> Pour faciliter la lecture du graphique, vous pouvez limiter l'affichage des abscisses entre -100 et 100 (par exemple) à l'aide de la fonction `xlim`."
   ]
  },
  {
   "cell_type": "code",
   "execution_count": 3,
   "metadata": {},
   "outputs": [],
   "source": [
    "% Calcul de l'intercorrélation\n",
    "% ...\n",
    "\n",
    "% Tracé\n",
    "% ..."
   ]
  }
 ],
 "metadata": {
  "kernelspec": {
   "display_name": "Octave",
   "language": "octave",
   "name": "octave"
  },
  "language_info": {
   "file_extension": ".m",
   "help_links": [
    {
     "text": "GNU Octave",
     "url": "https://www.gnu.org/software/octave/support.html"
    },
    {
     "text": "Octave Kernel",
     "url": "https://github.com/Calysto/octave_kernel"
    },
    {
     "text": "MetaKernel Magics",
     "url": "https://metakernel.readthedocs.io/en/latest/source/README.html"
    }
   ],
   "mimetype": "text/x-octave",
   "name": "octave",
   "version": "4.2.2"
  },
  "toc-autonumbering": true,
  "toc-showcode": false,
  "toc-showmarkdowntxt": false,
  "toc-showtags": false
 },
 "nbformat": 4,
 "nbformat_minor": 4
}
