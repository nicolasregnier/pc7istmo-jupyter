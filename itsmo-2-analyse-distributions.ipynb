{
 "cells": [
  {
   "cell_type": "markdown",
   "metadata": {},
   "source": [
    "[PC7ITSMO](https://moodle.bordeaux-inp.fr/course/view.php?id=4&section=1) Instrumentation, Traitement du Signal, et Modélisation $\\bullet$ ENSCBP - Bordeaux INP $\\bullet$ [Nicolas Régnier](mailto:nicolas.regnier@enscbp.fr)\n",
    "***\n",
    "## À lire en premier\n",
    "Vous venez d'ouvrir un \"Notebook Jupyter\" ! Si c'est la première fois $\\rightarrow$ consultez le [Mini tutoriel](_mini-tutoriel.ipynb).\n",
    "<br>Les exemples qui suivent font appel à des `fonctions Matlab`. Chaque fois que vous avez besoin d'aide $\\rightarrow$ consultez le [Guide des fonctions Matlab](_guide-matlab.ipynb).\n",
    "***\n",
    "<br>"
   ]
  },
  {
   "cell_type": "markdown",
   "metadata": {},
   "source": [
    "# ITSMO > Analyse des signaux"
   ]
  },
  {
   "cell_type": "markdown",
   "metadata": {},
   "source": [
    "## Moments et distributions\n",
    "\n",
    "Une distribution indique les probabilités ou fréquences d'apparition d'intervalles de valeurs parmi un ensemble. Elle caractérise et résume un ensemble de données ou le phénomène qui les génère, ce qui est particulièrement important dans le cas de phénomènes (et donc de signaux) aléatoires. Diverses lois de probabilité théoriques, telle que la loi normale ou gaussienne, permettent de modéliser des comportements aléatoires particuliers. \n",
    "\n",
    "Nous utiliserons ici des représentations sous forme de densité de probabilité, bien qu'il soit également possible de représenter une distribution de probabilités par sa fonction de répartition.\n",
    "\n",
    "Les moments des distributions sont des valeurs scalaires qui caractérisent et résument la position et la forme d'une distribution."
   ]
  },
  {
   "cell_type": "markdown",
   "metadata": {},
   "source": [
    "### Signal réel mesuré\n",
    "Soit un signal de mesure de température $Tx$ (salle de travaux pratiques ENSCBP) échantillonné à la fréquence $\\nu e = 1 Hz$ et enregistré dans un fichier de données.\n",
    "> Exécutez le code ci-dessous."
   ]
  },
  {
   "cell_type": "code",
   "execution_count": null,
   "metadata": {},
   "outputs": [],
   "source": [
    "% Chargement du signal mesuré (enregistré à la fréquence de 1 Hz dans le fichier \"Tx.mat\")\n",
    "load('data/Tx.mat');\n",
    "N = length(Tx);\n",
    "\n",
    "% Tracé\n",
    "plot(t,Tx)\n",
    "xlabel('t (s)');\n",
    "ylabel('Tx (\\degC)')"
   ]
  },
  {
   "cell_type": "markdown",
   "metadata": {},
   "source": [
    "### Calcul des moments : moyenne et écart-type (et variance)\n",
    "Les moments d'ordre 1 et 2 des distributions sont très couramment utilisés car ils sont faciles à calculer, à manipuler, et à interpréter physiquement.\n",
    "\n",
    "Moyenne de $X$ = moment d'ordre 1 de $X$ : $\\mu = E(X)$ $\\rightarrow$ même unité que $X$.\n",
    "<br>Estimation pour un signal discret $x(k)$ de longueur N : $m = \\frac{1}{N} \\sum_{k=0}^{N-1} x(k)$.\n",
    "\n",
    "<br>Variance de $X$ = moment centré d'ordre 2 de $X$ : $\\sigma^2(X) = E([X-E(X)]^2)$ $\\rightarrow$ carré de l'unité de $X$.\n",
    "<br>Estimation pour un signal discret $x(k)$ de longueur N : $s^2 = \\frac{1}{N} \\sum_{k=0}^{N-1} [x(k)-m]^2$.\n",
    "\n",
    "<br>Écart-type de $X$ = racine carrée de la variance de $X$ : $\\sigma(X) = \\sqrt{E([X-E(X)]^2)}$ $\\rightarrow$ même unité que $X$.\n",
    "<br>Estimation pour un signal discret $x(k)$ de longueur N : $s = \\sqrt{ \\frac{1}{N} \\sum_{k=0}^{N-1} [x(k)-m]^2}$.\n",
    "\n",
    "> Complétez le code ci-dessous de façon à calculer la moyenne, la variance, et l'écart-type de $Tx$, en utilisant les fonctions `mean`, `var`, et `std`."
   ]
  },
  {
   "cell_type": "code",
   "execution_count": 49,
   "metadata": {},
   "outputs": [],
   "source": [
    "% Calculs des statistiques\n",
    "% ..."
   ]
  },
  {
   "cell_type": "markdown",
   "metadata": {},
   "source": [
    "> Complétez le code ci-dessous de façon à superposer au graphe précédent la moyenne, la moyenne moins deux écarts-types, et la moyenne plus deux écarts-types, sous forme de droites horizontales."
   ]
  },
  {
   "cell_type": "code",
   "execution_count": null,
   "metadata": {},
   "outputs": [],
   "source": [
    "% Tracé\n",
    "plot(t,Tx)\n",
    "xlabel('t (s)');\n",
    "ylabel('Tx (\\degC)')\n",
    "hold on\n",
    "% ...\n",
    "hold off\n",
    "legend('mesures', 'moyenne', '2 ecarts-types')"
   ]
  },
  {
   "cell_type": "markdown",
   "metadata": {},
   "source": [
    "### Répartition autour de la moyenne\n",
    "Pour des données aléatoires issues de mesures, l'hypothèse d'une distribution normale est souvent formulée en raison du théorème central limite. Les pourcentages de nombres de valeurs, appartenant à des intervalles définis par la moyenne et l'écart-type, sont bien connus pour cette distribution :\n",
    "- environ 68 % des valeurs sont comprises dans un intervalle de largeur 2 écarts-types autour de la moyenne,\n",
    "- environ 95 % des valeurs sont comprises dans un intervalle de largeur 4 écarts-types autour de la moyenne.\n",
    "\n",
    "> Écrivez puis exécutez le code permettant de calculer les pourcentages de valeurs contenues dans ces intervalles, pour le signal $Tx$. Utilisez pour cela les fonctions `find` et `length`."
   ]
  },
  {
   "cell_type": "code",
   "execution_count": 53,
   "metadata": {},
   "outputs": [],
   "source": [
    "% Calcul des pourcentages\n",
    "% ..."
   ]
  },
  {
   "cell_type": "markdown",
   "metadata": {},
   "source": [
    "### Histogramme simple\n",
    "Un histogramme indique le nombre de valeurs appartenant à des intervalles régulièrement répartis entre le minimum et le maximum des données. Son intégrale n'étant pas égale à 1, il ne peut pas être directement assimilé à une densité de probabilité.\n",
    "> Exécutez le code ci-dessous.\n",
    "> <br>Vous pouvez aussi modifier le nombre de classes de l'histogramme (fonction `hist`), et exécuter à nouveau le code pour observer l'effet de ce paramètre."
   ]
  },
  {
   "cell_type": "code",
   "execution_count": null,
   "metadata": {},
   "outputs": [],
   "source": [
    "% Calcul de l'histogramme\n",
    "[p,x] = hist(Tx);\n",
    "\n",
    "% Tracé\n",
    "bar(x,p);\n",
    "xlabel(' Tx (\\degC)');\n",
    "ylabel('nombre de valeurs')"
   ]
  },
  {
   "cell_type": "markdown",
   "metadata": {},
   "source": [
    "### Estimation de la densité de probabilité : histogramme normalisé\n",
    "La normalisation de l'histrogramme consiste à obtenir une intégrale égale à 1, compatible avec les propriétés d'une densité de probabilité. Il suffit pour cela de calculer l'intégrale de l'histogramme simple, puis de diviser l'amplitude de celui-ci par la valeur de son intégrale.\n",
    "> Écrivez puis exécutez le code permettant de réaliser cette normalisation de l'histogramme précédent. Utilisez pour cela la fonction `trapz`.\n",
    "> <br>Vous pouvez aussi vérifier que l'intégrale de l'histogramme normalisé vaut bien 1, à nouveau avec la fonction `trapz`."
   ]
  },
  {
   "cell_type": "code",
   "execution_count": 56,
   "metadata": {},
   "outputs": [],
   "source": [
    "% Normalisation de l'histogramme\n",
    "% ...\n",
    "\n",
    "% Tracé\n",
    "% ...\n",
    "\n",
    "% Vérification\n",
    "% ..."
   ]
  },
  {
   "cell_type": "markdown",
   "metadata": {},
   "source": [
    "### Comparaison graphique avec une distribution normale\n",
    "La densité de probabilité d'une distribution normale est donnée par : $f(x,\\mu,\\sigma) = \\frac{1}{\\sigma \\sqrt{2\\pi}} \\cdot e^{-\\frac{(x-\\mu)^2}{2\\sigma^2}}$\n",
    "<br>Avec $x$ : valeur pour laquelle est calculée la densité de probabilité, $\\mu$ : moyenne, $\\sigma$ : écart-type.\n",
    "> Écrivez puis exécutez le code permettant de superposer sur un même graphe : l'estimation de la densité de probabilité des mesures $Tx$ (histogramme normalisé précédent), et celle d'une distribution normale de même moyenne et écart-type. Utilisez pour cela la fonction `normpdf`, avec un vecteur $x$ dont les valeurs sont comprises entre le minimum et le maximum des données, la moyenne $\\mu$ estimée, et l'écart-type $\\sigma$ estimé.\n",
    "<br>Pour obtenir une courbe \"lisse\", créez un vecteur d'abscisses $x$ avec la fonction `linspace`."
   ]
  },
  {
   "cell_type": "code",
   "execution_count": 77,
   "metadata": {},
   "outputs": [],
   "source": [
    "% Distribution normale\n",
    "% ...\n",
    "\n",
    "% Tracé\n",
    "% ..."
   ]
  }
 ],
 "metadata": {
  "kernelspec": {
   "display_name": "Octave",
   "language": "octave",
   "name": "octave"
  },
  "language_info": {
   "file_extension": ".m",
   "help_links": [
    {
     "text": "GNU Octave",
     "url": "https://www.gnu.org/software/octave/support.html"
    },
    {
     "text": "Octave Kernel",
     "url": "https://github.com/Calysto/octave_kernel"
    },
    {
     "text": "MetaKernel Magics",
     "url": "https://metakernel.readthedocs.io/en/latest/source/README.html"
    }
   ],
   "mimetype": "text/x-octave",
   "name": "octave",
   "version": "4.2.2"
  },
  "toc-autonumbering": true,
  "toc-showcode": false,
  "toc-showmarkdowntxt": false,
  "toc-showtags": false
 },
 "nbformat": 4,
 "nbformat_minor": 4
}
