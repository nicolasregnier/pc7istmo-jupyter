{
 "cells": [
  {
   "cell_type": "markdown",
   "metadata": {},
   "source": [
    "[PC7ITSMO](https://moodle.bordeaux-inp.fr/course/view.php?id=4&section=1) Instrumentation, Traitement du Signal, et Modélisation $\\bullet$ ENSCBP - Bordeaux INP $\\bullet$ [Nicolas Régnier](mailto:nicolas.regnier@enscbp.fr)\n",
    "***\n",
    "## À lire en premier\n",
    "Vous venez d'ouvrir un \"Notebook Jupyter\" ! Si c'est la première fois $\\rightarrow$ consultez le [Mini tutoriel](_mini-tutoriel.ipynb).\n",
    "<br>Les exemples qui suivent font appel à des `fonctions Matlab`. Chaque fois que vous avez besoin d'aide $\\rightarrow$ consultez le [Guide des fonctions Matlab](_guide-matlab.ipynb).\n",
    "***\n",
    "<br>"
   ]
  },
  {
   "cell_type": "markdown",
   "metadata": {},
   "source": [
    "# ITSMO > Échantillonnage et repliement du spectre\n",
    "L'échantillonnnage d'un signal consiste à faire l'acquisition des données à intervalles réguliers. Cet intervalle (choisi constant pendant toute la durée de la mesure) est la période d'échantillonnage $Te$. Son inverse est par définition la fréquence d'échantillonnage $\\nu e \\triangleq 1/Te$.\n",
    "\n",
    "Pour qu'il n'y ait pas de perte d'information ni d'analyse erronnée, la fréquence d'échantillonnage doit satisfaire le théorème de Shannon qui s'énonce de la façon suivante : $\\nu e \\geq 2\\cdot\\nu_{max}$, où $\\nu_{max}$ est la fréquence maximum du signal. Si ce n'est pas le cas, alors le phénomène de repliement du spectre apparaît."
   ]
  },
  {
   "cell_type": "markdown",
   "metadata": {},
   "source": [
    "## Simulation d'un signal périodique\n",
    "Soit un signal temporel continu constitué de deux fréquences distinctes : $\\nu_1 = 0.2 Hz$ et $\\nu_2 = 0.5 Hz$ (somme de deux sinusoïdes de fréquences différentes, et d'amplitudes différentes afin de les distinguer).\n",
    "<br>$x(t) = 2 \\cdot sin(2 \\cdot \\pi \\cdot \\nu_1 \\cdot t) + sin(2 \\cdot \\pi \\cdot \\nu_2 \\cdot t)$\n",
    "\n",
    "> Exécutez le code ci-dessous."
   ]
  },
  {
   "cell_type": "code",
   "execution_count": null,
   "metadata": {
    "hide_input": true
   },
   "outputs": [],
   "source": [
    "% Génération du signal périodique\n",
    "nu1 = 0.2; % Hz\n",
    "nu2 = 0.5; % Hz\n",
    "x = @(t) 2*sin(2*pi*nu1*t)+sin(2*pi*nu2*t);\n",
    "\n",
    "% Représentation temporelle\n",
    "fplot(x, [0 40])\n",
    "xlabel('t (s)')\n",
    "ylabel('amplitude')"
   ]
  },
  {
   "cell_type": "markdown",
   "metadata": {},
   "source": [
    "### Échantillonnage du signal à une fréquence suffisante $\\rightarrow$ pas de repliement du spectre\n",
    "Fréquence d'échantillonnage $\\nu e = 2 Hz > 2\\cdot \\nu_{max}$. Pas de repliement du spectre, donc il doit être possible de déterminer correctement les deux fréquences du signal sur la représentation fréquentielle entre $0$ et $\\nu e / 2$.\n",
    "> Exécutez le code ci-dessous."
   ]
  },
  {
   "cell_type": "code",
   "execution_count": null,
   "metadata": {},
   "outputs": [],
   "source": [
    "% Échantillonnage du signal périodique\n",
    "nue = 2; % Hz\n",
    "Te = 1/nue; %s\n",
    "N = 1000;\n",
    "t = 0:Te:(N-1)*Te;\n",
    "xn = x(t);\n",
    "\n",
    "% Représentation fréquentielle (module de la transformée de Fourier)\n",
    "Xn = fft(xn);\n",
    "nu = 0:nue/(N-1):nue;\n",
    "plot(nu,abs(Xn))\n",
    "xlabel('\\nu (Hz)')\n",
    "ylabel('amplitude')"
   ]
  },
  {
   "cell_type": "markdown",
   "metadata": {},
   "source": [
    "### Échantillonnage du signal à la fréquence minimum nécessaire $\\rightarrow$ pas de repliement du spectre\n",
    "Fréquence d'échantillonnage $\\nu e = 0.999 Hz \\approx 2\\cdot \\nu_{max}$. Pas de repliement du spectre, donc il doit être possible de déterminer correctement les deux fréquences du signal sur la représentation fréquentielle entre $0$ et $\\nu e / 2$.\n",
    "> Écrivez puis exécutez le code correspondant. Vous pouvez copier / coller / adapter le code précédent."
   ]
  },
  {
   "cell_type": "code",
   "execution_count": null,
   "metadata": {},
   "outputs": [],
   "source": [
    "% Échantillonnage du signal périodique\n",
    "% ...\n",
    "\n", 
    "% Représentation fréquentielle (module de la transformée de Fourier)\n",
    "% ..."
   ]
  },
  {
   "cell_type": "markdown",
   "metadata": {},
   "source": [
    "### Échantillonnage du signal à une fréquence insuffisante $\\rightarrow$ repliement du spectre\n",
    "Fréquence d'échantillonnage $\\nu e = 0.8 Hz < 2\\cdot \\nu_{max}$. Repliement du spectre, donc il ne doit pas être possible de déterminer correctement les deux fréquences du signal sur la représentation fréquentielle entre $0$ et $\\nu e / 2$.\n",
    "> Écrivez puis exécutez le code correspondant. Vous pouvez copier / coller / adapter le code précédent."
   ]
  },
  {
   "cell_type": "code",
   "execution_count": null,
   "metadata": {},
   "outputs": [],
   "source": [
    "% Échantillonnage du signal périodique\n",
    "% ...\n",
    "\n",    
    "% Représentation fréquentielle (module de la transformée de Fourier)\n",
    "% ..."
   ]
  },
  {
   "cell_type": "markdown",
   "metadata": {},
   "source": [
    "## Signal réel mesuré\n",
    "Soit un signal de mesure de température $T$ (salle de travaux pratiques ENSCBP) échantillonné à la fréquence $\\nu e = 1 Hz$ et enregistré dans un fichier de données.\n",
    "> Exécutez le code ci-dessous."
   ]
  },
  {
   "cell_type": "code",
   "execution_count": null,
   "metadata": {},
   "outputs": [],
   "source": [
    "% Chargement du signal mesuré (enregistré à la fréquence de 1 Hz dans la 4ème colonne du fichier \"sb2.dat\")\n",
    "data = load ('data/sb2.dat');\n",
    "T = data(:,4);\n",
    "nue = 1; % Hz\n",
    "Te = 1/nue; % s\n",
    "N = length(T);\n",
    "\n",
    "% Retrait de la composante continue\n",
    "T = T - mean(T);\n",
    "\n",
    "% Représentation temporelle\n",
    "t = 0:Te:(N-1)*Te;\n",
    "plot(t,T)\n",
    "xlabel('t (s)')\n",
    "ylabel('T (\\degC)')"
   ]
  },
  {
   "cell_type": "markdown",
   "metadata": {},
   "source": [
    "### Représentation fréquentielle du signal échantillonné à la fréquence $\\nu e = 1 Hz$ \n",
    "Pour faire l'acquisition de ce signal, une fréquence d'échantillonnage $\\nu e = 1 Hz$ a été choisie . Mais, ne connaissant pas la fréquence maximum $\\nu_{max}$ du signal, il est impossible de dire *a priori* si ce choix de $\\nu e$ est pertinent ou pas (c'est-à-dire s'il évite le repliement du spectre ou pas).\n",
    "> Écrivez puis exécutez le code permettant de calculer puis de tracer le module de la transformée de Fourier du signal $T$. Vous pouvez copier / coller / adapter le code précédent."
   ]
  },
  {
   "cell_type": "code",
   "execution_count": null,
   "metadata": {},
   "outputs": [],
   "source": [
    "% Représentation fréquentielle (module de la transformée de Fourier)\n",
    "% ..."
   ]
  },
  {
   "cell_type": "markdown",
   "metadata": {},
   "source": [
    "### Représentation fréquentielle du signal sous-échantillonné à la fréquence $\\nu e = 0.1 Hz$ \n",
    "Le sous-échantillonnage du signal au dixième de la fréquence d'échantillonnage réelle consiste à ne conserver qu'une valeur enregistrée sur dix. Le signal obtenu est donc celui qui aurait pu être obtenu avec une fréquence d'échantillonnage $\\nu e = 0.1 Hz$, ce qui permet d'observer l'effet de ce choix.\n",
    "> Complétez puis exécutez le code correspondant. Vous pouvez copier / coller / adapter le code précédent. "
   ]
  },
  {
   "cell_type": "code",
   "execution_count": null,
   "metadata": {},
   "outputs": [],
   "source": [
    "% Sous échantillonnage\n",
    "nue = 0.1; % Hz\n",
    "Te = 1/nue; % s\n",
    "T = T(1:Te:end);\n",
    "N = length(T);\n",
    "\n",
    "% Représentation fréquentielle (module de la transformée de Fourier)\n",
    "% ..."
   ]
  }
 ],
 "metadata": {
  "celltoolbar": "Éditer les Méta-Données",
  "kernelspec": {
   "display_name": "Octave",
   "language": "octave",
   "name": "octave"
  },
  "language_info": {
   "file_extension": ".m",
   "help_links": [
    {
     "text": "GNU Octave",
     "url": "https://www.gnu.org/software/octave/support.html"
    },
    {
     "text": "Octave Kernel",
     "url": "https://github.com/Calysto/octave_kernel"
    },
    {
     "text": "MetaKernel Magics",
     "url": "https://metakernel.readthedocs.io/en/latest/source/README.html"
    }
   ],
   "mimetype": "text/x-octave",
   "name": "octave",
   "version": "4.2.2"
  }
 },
 "nbformat": 4,
 "nbformat_minor": 4
}
