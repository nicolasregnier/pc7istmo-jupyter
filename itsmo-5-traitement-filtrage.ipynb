{
 "cells": [
  {
   "cell_type": "markdown",
   "metadata": {},
   "source": [
    "[PC7ITSMO](https://moodle.bordeaux-inp.fr/course/view.php?id=4&section=1) Instrumentation, Traitement du Signal, et Modélisation $\\bullet$ ENSCBP - Bordeaux INP $\\bullet$ [Nicolas Régnier](mailto:nicolas.regnier@enscbp.fr)\n",
    "***\n",
    "## À lire en premier\n",
    "Vous venez d'ouvrir un \"Notebook Jupyter\" ! Si c'est la première fois $\\rightarrow$ consultez le [Mini tutoriel](_mini-tutoriel.ipynb).\n",
    "<br>Les exemples qui suivent font appel à des `fonctions Matlab`. Chaque fois que vous avez besoin d'aide $\\rightarrow$ consultez le [Guide des fonctions Matlab](_guide-matlab.ipynb).\n",
    "***\n",
    "<br>"
   ]
  },
  {
   "cell_type": "markdown",
   "metadata": {},
   "source": [
    "# ITSMO > Traitement des signaux"
   ]
  },
  {
   "cell_type": "markdown",
   "metadata": {},
   "source": [
    "## Filtrage passe-bas\n",
    "Le filtrage passe-bas consiste à atténuer les composantes fréquentielles supérieures à une certaine fréquence de coupure, judicieusement choisie en fonction du résultat attendu."
   ]
  },
  {
   "cell_type": "markdown",
   "metadata": {},
   "source": [
    "### Signal réel mesuré\n",
    "Soit un signal de mesure de température $T$ (salle de travaux pratiques ENSCBP) échantillonné à la fréquence $\\nu e = 1 Hz$ et enregistré dans un fichier de données.\n",
    "> Exécutez le code ci-dessous."
   ]
  },
  {
   "cell_type": "code",
   "execution_count": null,
   "metadata": {},
   "outputs": [],
   "source": [
    "% Chargement du signal mesuré (enregistré à la fréquence de 1 Hz dans le fichier \"Tx.mat\")\n",
    "data = load('data/ech50a60.dat');\n",
    "t = data(:,1);\n",
    "T = data(:,4);\n",
    "N = length(T);\n",
    "\n",
    "% Tracé\n",
    "plot(t,T)\n",
    "xlabel('t (s)');\n",
    "ylabel('T (\\degC)')"
   ]
  },
  {
   "cell_type": "markdown",
   "metadata": {},
   "source": [
    "### Analyse du signal $\\rightarrow$ choix de la fréquence de coupure du filtre\n",
    "> Calculez la densité spectrale de puissance du signal $T$ en utilisant la fonction `pwelch` (méthode de Welch), puis tracez-la.\n",
    "><br> Vous pouvez faire varier les paramètres de la méthode de Welch correspondant à la taille des fenêtre et à leur taux de recouvrement.\n",
    "><br> Estimez la fréquence maximum $\\nu_{max}$ du signal $T$"
   ]
  },
  {
   "cell_type": "code",
   "execution_count": null,
   "metadata": {},
   "outputs": [],
   "source": [
    "% Calcul de la densité spectrale de puissance\n",
    "% ...\n",
    "\n",
    "% Tracé\n",
    "% ..."
   ]
  },
  {
   "cell_type": "markdown",
   "metadata": {},
   "source": [
    "### Synthèse du filtre \n",
    ">Calculez les coefficients d'un filtre passe-bas numérique de butterworth du deuxième ordre, dont la fréquence de coupure $\\nu_c$ est égale à $\\nu_{max}$, à l'aide de la fonction `butter`."
   ]
  },
  {
   "cell_type": "code",
   "execution_count": null,
   "metadata": {},
   "outputs": [],
   "source": [
    "% Calcul des coefficients de la fonction de transfert en z du filtre\n",
    "% ..."
   ]
  },
  {
   "cell_type": "markdown",
   "metadata": {},
   "source": [
    "### Caractéristiques du filtre\n",
    "> Calculez les zéros, les pôles, et le gain statique de ce filtre, à l'aide des fonctions `roots` et `sum`."
   ]
  },
  {
   "cell_type": "code",
   "execution_count": null,
   "metadata": {},
   "outputs": [],
   "source": [
    "% Zéros \n",
    "% ...\n",
    "\n",
    "% Pôles\n",
    "% ...\n",
    "\n",
    "% Gain statique\n",
    "% ..."
   ]
  },
  {
   "cell_type": "markdown",
   "metadata": {},
   "source": [
    "> Calculez le gain complexe de ce filtre grâce à la fonction `freqz`, puis tracez son module (en utilisant la fonction `abs`) et son retard de phase (en utilisant la fonction `angle`)."
   ]
  },
  {
   "cell_type": "code",
   "execution_count": null,
   "metadata": {},
   "outputs": [],
   "source": [
    "% Calcul du gain complexe\n",
    "% ...\n",
    "\n",
    "% Tracé\n",
    "% ..."
   ]
  },
  {
   "cell_type": "markdown",
   "metadata": {},
   "source": [
    "### Application du filtre et vérifications\n",
    "> Appliquez le filtre au signal $T$ à l'aide de la fonction `filtfilt` qui simule un filtre **en temps différé**, et tracez sur un même graphique le signal non-filtré $T$ et le signal filtré (c'est-à-dire sans retard)."
   ]
  },
  {
   "cell_type": "code",
   "execution_count": null,
   "metadata": {},
   "outputs": [],
   "source": [
    "% Calcul du signal filtré\n",
    "% ...\n",
    "\n",
    "% Tracé\n",
    "% ..."
   ]
  },
  {
   "cell_type": "markdown",
   "metadata": {},
   "source": [
    "> Appliquez le filtre au signal $T$ à l'aide de la fonction `filter` qui simule un filtre **en temps réel**, et tracez sur un même graphique le signal non-filtré $T$ et le signal filtré (c'est-à-dire avec retard).\n",
    "><br> Zoomez sur une partie du tracé pour mettre le retard en évidence."
   ]
  },
  {
   "cell_type": "code",
   "execution_count": null,
   "metadata": {},
   "outputs": [],
   "source": [
    "% Calcul du signal filtré\n",
    "% ...\n",
    "\n",
    "% Tracé\n",
    "% ..."
   ]
  },
  {
   "cell_type": "code",
   "execution_count": null,
   "metadata": {},
   "outputs": [],
   "source": [
    "% Tracé zoommé\n",
    "% ..."
   ]
  },
  {
   "cell_type": "markdown",
   "metadata": {},
   "source": [
    "> Calculez la densité spectrale de puissancce du signal filtré en utilisant la fonction `pwelch` (méthode de Welch), puis tracez-la sur un même graphique que la densité spectrale du signal non-filtré."
   ]
  },
  {
   "cell_type": "code",
   "execution_count": null,
   "metadata": {},
   "outputs": [],
   "source": [
    "% Calcul de la densité spectrale de puissance\n",
    "% ...\n",
    "\n",
    "% Tracé\n",
    "% ..."
   ]
  },
  {
   "cell_type": "markdown",
   "metadata": {},
   "source": [
    "## Filtrage passe-haut\n",
    "Le filtrage passe-bas consiste à atténuer les composantes fréquentielles inférieures à une certaine fréquence de coupure, judicieusement choisie en fonction du résultat attendu."
   ]
  },
  {
   "cell_type": "markdown",
   "metadata": {},
   "source": [
    "### Synthèse du filtre \n",
    ">Calculez les coefficients d'un filtre passe-haut numérique de butterworth du deuxième ordre, dont la fréquence de coupure $\\nu_c$ est égale à $\\nu_{max}$ (la même que celle du filtre passe-bas précédent), à l'aide de la fonction `butter`."
   ]
  },
  {
   "cell_type": "code",
   "execution_count": null,
   "metadata": {},
   "outputs": [],
   "source": [
    "% Calcul des coefficients de la fonction de transfert en z du filtre\n",
    "% ..."
   ]
  },
  {
   "cell_type": "markdown",
   "metadata": {},
   "source": [
    "### Caractéristiques, application et vérifications\n",
    "> Vous pouvez refaire les mêmes analyses et vérifications que précédemment ! Caractéristiques du filtre, application au signal, etc. "
   ]
  },
  {
   "cell_type": "code",
   "execution_count": null,
   "metadata": {},
   "outputs": [],
   "source": [
    "% Zéros \n",
    "% ...\n",
    "\n",
    "% Pôles\n",
    "% ...\n",
    "\n",
    "% Gain statique\n",
    "% ..."
   ]
  },
  {
   "cell_type": "code",
   "execution_count": null,
   "metadata": {},
   "outputs": [],
   "source": [
    "% Calcul du gain complexe\n",
    "% ...\n",
    "\n",
    "% Tracé\n",
    "% ..."
   ]
  },
  {
   "cell_type": "code",
   "execution_count": null,
   "metadata": {},
   "outputs": [],
   "source": [
    "% Calcul du signal filtré\n",
    "% ...\n",
    "\n",
    "% Tracé\n",
    "% ..."
   ]
  },
  {
   "cell_type": "code",
   "execution_count": null,
   "metadata": {},
   "outputs": [],
   "source": [
    "% Calcul de la densité spectrale de puissance\n",
    "% ...\n",
    "\n",
    "% Tracé\n",
    "% ..."
   ]
  }
 ],
 "metadata": {
  "kernelspec": {
   "display_name": "Octave",
   "language": "octave",
   "name": "octave"
  },
  "language_info": {
   "file_extension": ".m",
   "help_links": [
    {
     "text": "GNU Octave",
     "url": "https://www.gnu.org/software/octave/support.html"
    },
    {
     "text": "Octave Kernel",
     "url": "https://github.com/Calysto/octave_kernel"
    },
    {
     "text": "MetaKernel Magics",
     "url": "https://metakernel.readthedocs.io/en/latest/source/README.html"
    }
   ],
   "mimetype": "text/x-octave",
   "name": "octave",
   "version": "4.2.2"
  }
 },
 "nbformat": 4,
 "nbformat_minor": 4
}
